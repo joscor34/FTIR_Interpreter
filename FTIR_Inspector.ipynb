{
 "cells": [
  {
   "cell_type": "markdown",
   "metadata": {},
   "source": [
    "# Interprete de espectros FTIR"
   ]
  },
  {
   "cell_type": "code",
   "execution_count": 2,
   "metadata": {},
   "outputs": [],
   "source": [
    "import pandas as pd\n",
    "import numpy as np\n",
    "import matplotlib.pyplot as plt"
   ]
  },
  {
   "cell_type": "code",
   "execution_count": 3,
   "metadata": {},
   "outputs": [
    {
     "data": {
      "text/html": [
       "<div>\n",
       "<style scoped>\n",
       "    .dataframe tbody tr th:only-of-type {\n",
       "        vertical-align: middle;\n",
       "    }\n",
       "\n",
       "    .dataframe tbody tr th {\n",
       "        vertical-align: top;\n",
       "    }\n",
       "\n",
       "    .dataframe thead th {\n",
       "        text-align: right;\n",
       "    }\n",
       "</style>\n",
       "<table border=\"1\" class=\"dataframe\">\n",
       "  <thead>\n",
       "    <tr style=\"text-align: right;\">\n",
       "      <th></th>\n",
       "      <th>Wavenumbers.1</th>\n",
       "      <th>Potato (raw tuber)</th>\n",
       "    </tr>\n",
       "  </thead>\n",
       "  <tbody>\n",
       "    <tr>\n",
       "      <th>0</th>\n",
       "      <td>599.7631</td>\n",
       "      <td>0.528969</td>\n",
       "    </tr>\n",
       "    <tr>\n",
       "      <th>1</th>\n",
       "      <td>600.2452</td>\n",
       "      <td>0.529540</td>\n",
       "    </tr>\n",
       "    <tr>\n",
       "      <th>2</th>\n",
       "      <td>600.7273</td>\n",
       "      <td>0.530237</td>\n",
       "    </tr>\n",
       "    <tr>\n",
       "      <th>3</th>\n",
       "      <td>601.2094</td>\n",
       "      <td>0.530940</td>\n",
       "    </tr>\n",
       "    <tr>\n",
       "      <th>4</th>\n",
       "      <td>601.6916</td>\n",
       "      <td>0.531465</td>\n",
       "    </tr>\n",
       "    <tr>\n",
       "      <th>...</th>\n",
       "      <td>...</td>\n",
       "      <td>...</td>\n",
       "    </tr>\n",
       "    <tr>\n",
       "      <th>7049</th>\n",
       "      <td>3998.2600</td>\n",
       "      <td>0.018820</td>\n",
       "    </tr>\n",
       "    <tr>\n",
       "      <th>7050</th>\n",
       "      <td>3998.7420</td>\n",
       "      <td>0.018801</td>\n",
       "    </tr>\n",
       "    <tr>\n",
       "      <th>7051</th>\n",
       "      <td>3999.2240</td>\n",
       "      <td>0.018791</td>\n",
       "    </tr>\n",
       "    <tr>\n",
       "      <th>7052</th>\n",
       "      <td>3999.7060</td>\n",
       "      <td>0.018788</td>\n",
       "    </tr>\n",
       "    <tr>\n",
       "      <th>7053</th>\n",
       "      <td>4000.1880</td>\n",
       "      <td>0.018791</td>\n",
       "    </tr>\n",
       "  </tbody>\n",
       "</table>\n",
       "<p>7054 rows × 2 columns</p>\n",
       "</div>"
      ],
      "text/plain": [
       "      Wavenumbers.1  Potato (raw tuber)\n",
       "0          599.7631            0.528969\n",
       "1          600.2452            0.529540\n",
       "2          600.7273            0.530237\n",
       "3          601.2094            0.530940\n",
       "4          601.6916            0.531465\n",
       "...             ...                 ...\n",
       "7049      3998.2600            0.018820\n",
       "7050      3998.7420            0.018801\n",
       "7051      3999.2240            0.018791\n",
       "7052      3999.7060            0.018788\n",
       "7053      4000.1880            0.018791\n",
       "\n",
       "[7054 rows x 2 columns]"
      ]
     },
     "execution_count": 3,
     "metadata": {},
     "output_type": "execute_result"
    }
   ],
   "source": [
    "archivo_espectro = 'FTIR_Library_Spectra.csv'\n",
    "fields = [\"Potato (raw tuber)\", \"Wavenumbers.1\"]\n",
    "x_y_data = pd.read_csv(archivo_espectro, skipinitialspace=True, usecols=fields)\n",
    "x_y_data"
   ]
  },
  {
   "cell_type": "code",
   "execution_count": 4,
   "metadata": {},
   "outputs": [],
   "source": [
    "#Detect de max and the mins\n",
    "a = np.diff(np.sign(np.diff(x_y_data[\"Wavenumbers.1\"]))).nonzero()[0] + 1 \n",
    "# min\n",
    "b = (np.diff(np.sign(np.diff(x_y_data[\"Wavenumbers.1\"]))) > 0).nonzero()[0] + 1   \n",
    "# max\n",
    "c = (np.diff(np.sign(np.diff(x_y_data[\"Wavenumbers.1\"]))) < 0).nonzero()[0] + 1    "
   ]
  },
  {
   "cell_type": "code",
   "execution_count": 5,
   "metadata": {},
   "outputs": [
    {
     "data": {
      "image/png": "[encoded data removed]",
      "text/plain": [
       "<Figure size 432x288 with 1 Axes>"
      ]
     },
     "metadata": {
      "needs_background": "light"
     },
     "output_type": "display_data"
    }
   ],
   "source": [
    "fig, axs = plt.subplots(1, 1) \n",
    "axs.plot(x_y_data[\"Wavenumbers.1\"], x_y_data[\"Potato (raw tuber)\"]) \n",
    "\n",
    "axs.plot(x_y_data[\"Potato (raw tuber)\"][b], x_y_data[\"Wavenumbers.1\"][b], \"o\", label=\"min\", color='r')\n",
    "axs.plot(x_y_data[\"Potato (raw tuber)\"][c], x_y_data[\"Wavenumbers.1\"][c], \"o\", label=\"max\", color='b')\n",
    "\n",
    "axs.set_xlim(4000, 500)\n",
    "axs.set_ylim(None, 1.05)\n",
    "\n",
    "axs.set_xlabel('wavenumber [$\\mathregular{cm^{-1}]}$') \n",
    "axs.set_ylabel('transmission [a.u.]')\n",
    "axs.grid(True) \n",
    "axs.set_title(archivo_espectro)\n",
    "fig.tight_layout() \n",
    "plt.show()"
   ]
  },
  {
   "cell_type": "code",
   "execution_count": null,
   "metadata": {},
   "outputs": [],
   "source": []
  }
 ],
 "metadata": {
  "kernelspec": {
   "display_name": "Python 3",
   "language": "python",
   "name": "python3"
  },
  "language_info": {
   "codemirror_mode": {
    "name": "ipython",
    "version": 3
   },
   "file_extension": ".py",
   "mimetype": "text/x-python",
   "name": "python",
   "nbconvert_exporter": "python",
   "pygments_lexer": "ipython3",
   "version": "3.8.5"
  }
 },
 "nbformat": 4,
 "nbformat_minor": 4
}
